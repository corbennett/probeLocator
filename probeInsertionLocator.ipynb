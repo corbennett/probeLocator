{
 "cells": [
  {
   "cell_type": "code",
   "execution_count": 5,
   "metadata": {},
   "outputs": [
    {
     "name": "stdout",
     "output_type": "stream",
     "text": [
      "loaded default config\n"
     ]
    },
    {
     "data": {
      "text/html": [
       "<style>.container { width:100% !important; }</style>"
      ],
      "text/plain": [
       "<IPython.core.display.HTML object>"
      ]
     },
     "metadata": {},
     "output_type": "display_data"
    }
   ],
   "source": [
    "import cv2\n",
    "import numpy as np\n",
    "from matplotlib import pyplot as plt\n",
    "from ipywidgets import interact, interactive, fixed, interact_manual\n",
    "import ipywidgets as widgets\n",
    "from IPython.display import display\n",
    "import urllib\n",
    "import json\n",
    "import os, glob\n",
    "from IPython.core.display import display, HTML\n",
    "import logging\n",
    "\n",
    "import warpImage\n",
    "from pointAnnotator import pointAnnotator, pointCopier\n",
    "import helpers\n",
    "try:\n",
    "    import config as cfg\n",
    "    print('loaded device specific config')\n",
    "except ImportError as E:\n",
    "    import default_config as cfg\n",
    "    print('loaded default config')\n",
    "\n",
    "\n",
    "display(HTML(\"<style>.container { width:100% !important; }</style>\"))\n",
    "%matplotlib notebook"
   ]
  },
  {
   "cell_type": "code",
   "execution_count": 6,
   "metadata": {},
   "outputs": [],
   "source": [
    "localWarp=False\n",
    "\n",
    "#for some reason, I find you have to run this line twice to actually take effect (depending on matplotlib version)\n",
    "%matplotlib notebook "
   ]
  },
  {
   "cell_type": "code",
   "execution_count": 14,
   "metadata": {},
   "outputs": [
    {
     "name": "stdout",
     "output_type": "stream",
     "text": [
      "[{u'name': u'C57BL/6J-415149', u'isi_image_overlay_path': u'/allen/programs/braintv/production/neuralcoding/prod56/specimen_753795610/isi_experiment_760659575/760659575_isi_overlay.tif', u'isi_experiments': [{u'project_code': u'NeuropixelVisualCoding', u'targets': {u'actual_insertion': {u'reticle_space': [{u'y': -1066.63, u'x': 904.29}, {u'y': -507.63, u'x': 1707.42}, {u'y': 733.46, u'x': 899.98}, {u'y': 224.82, u'x': -1649.91}, {u'y': -77.25, u'x': -1331.14}, {u'y': -701.03, u'x': -99.32}], u'image_space': [{u'y': 544.0, u'x': 1584.0}, {u'y': 788.0, u'x': 1944.0}, {u'y': 1344.0, u'x': 1592.0}, {u'y': 1132.0, u'x': 456.0}, {u'y': 996.0, u'x': 596.0}, {u'y': 712.0, u'x': 1140.0}]}, u'insertion_targets': {u'reticle_space': [{u'y': -1150.74, u'x': 653.31}, {u'y': -489.89, u'x': 960.14}, {u'y': 487.06, u'x': 263.98}, {u'y': 320.37, u'x': -1565.59}, {u'y': -221.02, u'x': -1311.36}, {u'y': -995.35, u'x': -244.18}], u'image_space': [{u'y': 508.0, u'x': 1472.0}, {u'y': 800.0, u'x': 1612.0}, {u'y': 1238.0, u'x': 1308.0}, {u'y': 1174.0, u'x': 494.0}, {u'y': 932.0, u'x': 604.0}, {u'y': 582.0, u'x': 1074.0}]}, u'intended_insertion': {u'reticle_space': None, u'image_space': None}}, u'workflow_state': u'passed', u'id': u'760659575', u'name': u'415149_20181004'}, {u'project_code': u'NeuropixelVisualCoding', u'targets': {u'actual_insertion': {u'reticle_space': None, u'image_space': None}, u'insertion_targets': {u'reticle_space': None, u'image_space': None}, u'intended_insertion': {u'reticle_space': None, u'image_space': None}}, u'workflow_state': u'failed', u'id': u'760289942', u'name': u'415149_20181003'}, {u'project_code': u'NeuropixelVisualCoding', u'targets': {u'actual_insertion': {u'reticle_space': None, u'image_space': None}, u'insertion_targets': {u'reticle_space': None, u'image_space': None}, u'intended_insertion': {u'reticle_space': None, u'image_space': None}}, u'workflow_state': u'failed', u'id': u'759744716', u'name': u'20181001_415149'}], u'target_map_image_path': u'/allen/programs/braintv/production/neuralcoding/prod56/specimen_753795610/isi_experiment_760659575/760659575_target_map.tif', u'id': u'753795610', u'external_specimen_name': u'415149'}]\n",
      "\\\\allen/programs/braintv/production/neuralcoding/prod56/specimen_753795610/isi_experiment_760659575/760659575_target_map.tif\n"
     ]
    }
   ],
   "source": [
    "#get path to network folder with lims images for this mouse\n",
    "mouse_num = '415149'\n",
    "json_string = urllib.urlopen(\"http://lims2/specimens/isi_experiment_details/\" + mouse_num + \".json\").read()\n",
    "info = json.loads(json_string)\n",
    "print(info)\n",
    "\n",
    "####################it looks like it always pulls the map with targets on it but what happens if two have targets?\n",
    "vimg_path = r'\\\\' + info[0]['target_map_image_path'][1:]\n",
    "#experiments = info[0]['isi_experiments']\n",
    "#for exp in experiments:\n",
    "#    if exp['targets']['insertion_targets']['reticle_space'] is not None:\n",
    "#        pass\n",
    "\n",
    "print(vimg_path)"
   ]
  },
  {
   "cell_type": "code",
   "execution_count": 8,
   "metadata": {},
   "outputs": [],
   "source": [
    "#get vasculature image\n",
    "vimg = cv2.imread(vimg_path)\n",
    "\n",
    "#get probe insertion image\n",
    "pimgFileList = [r\"Z:\\03132019_416656\\2019_03_13_15_11_10_left.png\"]\n",
    "if len(pimgFileList) == 0:\n",
    "    pimgFileList = cfg.get_insertion_image_paths(mouse_num)\n",
    "    \n",
    "canidate_image_count = len(pimgFileList)"
   ]
  },
  {
   "cell_type": "code",
   "execution_count": 9,
   "metadata": {},
   "outputs": [
    {
     "ename": "NameError",
     "evalue": "name 'pimgFileName' is not defined",
     "output_type": "error",
     "traceback": [
      "\u001b[1;31m---------------------------------------------------------------------------\u001b[0m",
      "\u001b[1;31mNameError\u001b[0m                                 Traceback (most recent call last)",
      "\u001b[1;32m<ipython-input-9-d324df9a78c9>\u001b[0m in \u001b[0;36m<module>\u001b[1;34m()\u001b[0m\n\u001b[1;32m----> 1\u001b[1;33m \u001b[0mpimg\u001b[0m \u001b[1;33m=\u001b[0m \u001b[0mcv2\u001b[0m\u001b[1;33m.\u001b[0m\u001b[0mimread\u001b[0m\u001b[1;33m(\u001b[0m\u001b[0mpimgFileName\u001b[0m\u001b[1;33m)\u001b[0m\u001b[1;33m\u001b[0m\u001b[0m\n\u001b[0m\u001b[0;32m      2\u001b[0m \u001b[1;33m\u001b[0m\u001b[0m\n\u001b[0;32m      3\u001b[0m \u001b[1;31m#change from opencv bgr default back to rgb\u001b[0m\u001b[1;33m\u001b[0m\u001b[1;33m\u001b[0m\u001b[0m\n\u001b[0;32m      4\u001b[0m \u001b[0mpimg\u001b[0m \u001b[1;33m=\u001b[0m \u001b[0mpimg\u001b[0m\u001b[1;33m[\u001b[0m\u001b[1;33m:\u001b[0m\u001b[1;33m,\u001b[0m \u001b[1;33m:\u001b[0m\u001b[1;33m,\u001b[0m \u001b[1;33m[\u001b[0m\u001b[1;36m2\u001b[0m\u001b[1;33m,\u001b[0m\u001b[1;36m1\u001b[0m\u001b[1;33m,\u001b[0m\u001b[1;36m0\u001b[0m\u001b[1;33m]\u001b[0m\u001b[1;33m]\u001b[0m\u001b[1;33m\u001b[0m\u001b[0m\n\u001b[0;32m      5\u001b[0m \u001b[0mvimg\u001b[0m \u001b[1;33m=\u001b[0m \u001b[0mvimg\u001b[0m\u001b[1;33m[\u001b[0m\u001b[1;33m:\u001b[0m\u001b[1;33m,\u001b[0m \u001b[1;33m:\u001b[0m\u001b[1;33m,\u001b[0m \u001b[1;33m[\u001b[0m\u001b[1;36m2\u001b[0m\u001b[1;33m,\u001b[0m\u001b[1;36m1\u001b[0m\u001b[1;33m,\u001b[0m\u001b[1;36m0\u001b[0m\u001b[1;33m]\u001b[0m\u001b[1;33m]\u001b[0m\u001b[1;33m\u001b[0m\u001b[0m\n",
      "\u001b[1;31mNameError\u001b[0m: name 'pimgFileName' is not defined"
     ]
    }
   ],
   "source": [
    "\n",
    "\n",
    "pimg_dict = {}\n",
    "ppa_dict = {}\n",
    "points_dict = {}\n",
    "\n",
    "\n",
    "if canidate_image_count > 1:\n",
    "    fig, ax = plt.subplots(canidate_image_count, figsize=(20,20/(2*aspect)))\n",
    "    for idx, imgage_path in enumerate(pimgFileList):\n",
    "        next_ax = ax[idx]\n",
    "        next_image = cv2.imread(imgage_path)\n",
    "        pimg_dict[imgage_path] = next_ax.imshow(next_image, origin='upper')\n",
    "        ppa_dict[imgage_path] = pointAnnotator(pimg_dict[imgage_path], next_ax)\n",
    "        image_name = os.path.split(image_path)[0]\n",
    "        points_dict[imgage_path] = helpers.points_from_path(directory_path, image_name)\n",
    "        ppa_dict[imgage_path].loadPoints(points_dict[imgage_path])\n",
    "        \n"
   ]
  },
  {
   "cell_type": "code",
   "execution_count": null,
   "metadata": {
    "scrolled": false
   },
   "outputs": [],
   "source": [
    "#Display the vasculature images and select points of interest (at least three)\n",
    "\n",
    "if canidate_image_count > 1:\n",
    "    count = 0\n",
    "    for image_path, annotator in ppa_dict.items():\n",
    "        if not(annotator.points == points_dict[image_path])\n",
    "            count+=1\n",
    "            chosen_image_path = image_path\n",
    "    try:\n",
    "        assert(count==1)\n",
    "    except AssertionError as E:\n",
    "        logging.warning('Image chosen is ambiguous, none or multiple were clicked. Please reset and try again.')\n",
    "        raise(E)\n",
    "    pimg_path = chosen_image_path\n",
    "else:\n",
    "    pimg_path = pimgFileList[0]\n",
    "\n",
    "pimg = cv2.imread(pimg_path)\n",
    "chosen_probe_image_name = os.path.split(pimg_path)[1]\n",
    "chosen_vasculature_image_name = os.path.split(vimg_path)[1]\n",
    "\n",
    "#change from opencv bgr default back to rgb\n",
    "pimg = pimg[:, :, [2,1,0]]\n",
    "vimg = vimg[:, :, [2,1,0]]\n",
    "aspect = (pimg.shape[0]+vimg.shape[0])/float(np.max([pimg.shape[1], vimg.shape[1]]))\n",
    "\n",
    "fig, ax = plt.subplots(1,2, figsize=(20,20/(2*aspect)))\n",
    "vax = ax[0]\n",
    "pax = ax[1]\n",
    "\n",
    "vim = vax.imshow(vimg, origin='upper')\n",
    "vpa = pointAnnotator(vim, vax)\n",
    "vasculature_lanmark_points\n",
    "vasculature_landmark_points = helpers.points_from_path(vimg_path, chosen_probe_image_name, 'landmark')\n",
    "ppa.loadPoints(vasculature_landmark_points)\n",
    "\n",
    "pim = pax.imshow(pimg, origin='upper')\n",
    "ppa = pointAnnotator(pim, pax)\n",
    "probe_landmark_points = helpers.points_from_path(pimg_path, chosen_vasculature_image_name, 'landmark')\n",
    "ppa.loadPoints(probe_landmark_points)\n",
    "\n",
    "plt.tight_layout(pad=1, w_pad=0, h_pad=0)"
   ]
  },
  {
   "cell_type": "code",
   "execution_count": null,
   "metadata": {
    "scrolled": false
   },
   "outputs": [],
   "source": [
    "#Compute affine transform to warp probe insertion image to vasculature image coordinates\n",
    "\n",
    "#reshape points into [numpoints, 2] arrays\n",
    "ppoints = ppa.points #np.stack((ppa.xs, ppa.ys)).astype(np.float32).T\n",
    "vpoints = vpa.points #np.stack((vpa.xs, vpa.ys)).astype(np.float32).T\n",
    "\n",
    "#get perspective transform between images and apply it to probe insertion image\n",
    "perspective = cv2.findHomography(ppoints, vpoints)\n",
    "pimg_transform = cv2.warpPerspective(pimg, perspective[0], (vimg.shape[1], vimg.shape[0]))\n",
    "\n",
    "#transform probe insertion points to use in local warping or plot on transformed image\n",
    "ppoints_transform = cv2.perspectiveTransform(np.array([ppoints.astype(np.float32)]), perspective[0])\n",
    "ppoints_transform = np.squeeze(ppoints_transform)\n",
    "\n",
    "#perform Delaunay triangle local warp if specified\n",
    "if localWarp:\n",
    "    pimg_transform = warpImage.warpImage(vimg, pimg_transform, vpoints, ppoints_transform)\n",
    "\n",
    "#plot overlay of vasculature image and transformed image to compare\n",
    "fig, ax = plt.subplots(figsize=(10,10/aspect))\n",
    "ax.imshow(vimg, alpha=0.5)\n",
    "ax.imshow(255-pimg_transform, alpha=0.5)\n"
   ]
  },
  {
   "cell_type": "code",
   "execution_count": 10,
   "metadata": {},
   "outputs": [
    {
     "ename": "NameError",
     "evalue": "name 'aspect' is not defined",
     "output_type": "error",
     "traceback": [
      "\u001b[1;31m---------------------------------------------------------------------------\u001b[0m",
      "\u001b[1;31mNameError\u001b[0m                                 Traceback (most recent call last)",
      "\u001b[1;32m<ipython-input-10-7aa5c9f23741>\u001b[0m in \u001b[0;36m<module>\u001b[1;34m()\u001b[0m\n\u001b[0;32m      1\u001b[0m \u001b[1;31m#Select location of probe insertion points in this warped image\u001b[0m\u001b[1;33m\u001b[0m\u001b[1;33m\u001b[0m\u001b[0m\n\u001b[1;32m----> 2\u001b[1;33m \u001b[0mfig\u001b[0m\u001b[1;33m,\u001b[0m \u001b[0max\u001b[0m \u001b[1;33m=\u001b[0m \u001b[0mplt\u001b[0m\u001b[1;33m.\u001b[0m\u001b[0msubplots\u001b[0m\u001b[1;33m(\u001b[0m\u001b[1;36m1\u001b[0m\u001b[1;33m,\u001b[0m\u001b[1;36m2\u001b[0m\u001b[1;33m,\u001b[0m \u001b[0mfigsize\u001b[0m\u001b[1;33m=\u001b[0m\u001b[1;33m(\u001b[0m\u001b[1;36m20\u001b[0m\u001b[1;33m,\u001b[0m\u001b[1;36m20\u001b[0m\u001b[1;33m/\u001b[0m\u001b[1;33m(\u001b[0m\u001b[1;36m2\u001b[0m\u001b[1;33m*\u001b[0m\u001b[0maspect\u001b[0m\u001b[1;33m)\u001b[0m\u001b[1;33m)\u001b[0m\u001b[1;33m)\u001b[0m\u001b[1;33m\u001b[0m\u001b[0m\n\u001b[0m\u001b[0;32m      3\u001b[0m \u001b[0mpaffax\u001b[0m \u001b[1;33m=\u001b[0m \u001b[0max\u001b[0m\u001b[1;33m[\u001b[0m\u001b[1;36m0\u001b[0m\u001b[1;33m]\u001b[0m\u001b[1;33m\u001b[0m\u001b[0m\n\u001b[0;32m      4\u001b[0m \u001b[0mvax2\u001b[0m \u001b[1;33m=\u001b[0m \u001b[0max\u001b[0m\u001b[1;33m[\u001b[0m\u001b[1;36m1\u001b[0m\u001b[1;33m]\u001b[0m\u001b[1;33m\u001b[0m\u001b[0m\n\u001b[0;32m      5\u001b[0m \u001b[1;33m\u001b[0m\u001b[0m\n",
      "\u001b[1;31mNameError\u001b[0m: name 'aspect' is not defined"
     ]
    }
   ],
   "source": [
    "#Select location of probe insertion points in this warped image\n",
    "fig, ax = plt.subplots(1,2, figsize=(20,20/(2*aspect)))\n",
    "paffax = ax[0]\n",
    "vax2 = ax[1]\n",
    "\n",
    "paff_im = paffax.imshow(pimg_transform, origin='upper')\n",
    "paffp = pointAnnotator(paff_im, paffax)\n",
    "probe_insertion_points = helpers.points_from_path(pimg_path, chosen_vasculature_image_name, chosen_probe_image_name, 'insertion')\n",
    "paffp.loadPoints(insertion_points)\n",
    "\n",
    "paffpoints = paffp.points  # np.stack((paffp.xs, paffp.ys)).astype(np.float32).T\n",
    "\n",
    "vim2 = vax2.imshow(vimg, origin='upper')\n",
    "vpa = pointCopier(vim2, vax2)\n",
    "vpa.loadPoints(insertion_points)"
   ]
  },
  {
   "cell_type": "code",
   "execution_count": null,
   "metadata": {},
   "outputs": [],
   "source": [
    "print(paffpoints)#I think we need to update this before writing?\n",
    "#also lets do one in the ISI pixel coords to make it easy - but we need to associate the targets with the vasculature image they were matched from"
   ]
  },
  {
   "cell_type": "code",
   "execution_count": null,
   "metadata": {
    "collapsed": true
   },
   "outputs": [],
   "source": [
    "# save points and transformation matrix\n",
    "save_path = cfg.get_save_path(pimgFileName)\n",
    "try:\n",
    "    current_npz = np.load(save_path)\n",
    "    save_dict = dict(current_npz)\n",
    "except FileNotFoundError as E:\n",
    "    save_dict = {}\n",
    "\n",
    "save_dict['vasculatureImageKeypoints'] = vpoints\n",
    "save_dict['probeImageKeypoints'] = ppoints\n",
    "save_dict['vasculatureToProbeInsertionTransform'] = perspective[0]\n",
    "save_dict['probeInsertionPointsTransformed'] = paffpoints\n",
    "save_dict[chosen_vasculature_image_name+'_landmark_points'] = vpoints\n",
    "save_dict[chosen_probe_image_name+'_landmark_points'] = ppoints\n",
    "save_dict[chosen_probe_image_name+'_to_'+chosen_vasculature_image_name+'_transform'] = perspective[0]\n",
    "save_dict[chosen_probe_image_name+'_to_'+chosen_vasculature_image_name+'_insertion_points'] = paffpoints\n",
    "\n",
    "np.savez(save_path, **save_dict)\n",
    "\n"
   ]
  },
  {
   "cell_type": "code",
   "execution_count": null,
   "metadata": {},
   "outputs": [],
   "source": [
    "# save notebook as html\n",
    "saveDirectory = os.path.dirname(pimgFileName)\n",
    "os.system('jupyter nbconvert probeInsertionLocator.ipynb --output ' + os.path.join(saveDirectory, 'probeInsertionNotebook.html'))"
   ]
  },
  {
   "cell_type": "code",
   "execution_count": null,
   "metadata": {
    "collapsed": true
   },
   "outputs": [],
   "source": []
  }
 ],
 "metadata": {
  "kernelspec": {
   "display_name": "Python 2",
   "language": "python",
   "name": "python2"
  },
  "language_info": {
   "codemirror_mode": {
    "name": "ipython",
    "version": 2
   },
   "file_extension": ".py",
   "mimetype": "text/x-python",
   "name": "python",
   "nbconvert_exporter": "python",
   "pygments_lexer": "ipython2",
   "version": "2.7.14"
  }
 },
 "nbformat": 4,
 "nbformat_minor": 1
}
